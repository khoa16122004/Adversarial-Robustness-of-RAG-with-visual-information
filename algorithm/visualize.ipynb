{
 "cells": [
  {
   "cell_type": "code",
   "execution_count": 13,
   "id": "b18feada",
   "metadata": {},
   "outputs": [],
   "source": [
    "from util import *\n",
    "import os\n",
    "import matplotlib.pyplot as plt\n",
    "from IPython.display import HTML\n",
    "import matplotlib.animation as animation\n",
    "import numpy as np\n",
    "import pickle"
   ]
  },
  {
   "cell_type": "code",
   "execution_count": 14,
   "id": "6708291c",
   "metadata": {},
   "outputs": [],
   "source": [
    "path = \"logs/clip_llava_0.05_183.pkl\"\n",
    "\n",
    "with open(path, \"rb\") as f:\n",
    "    history = pickle.load(f)\n",
    "\n",
    "final_history = arkiv_proccess(history)\n"
   ]
  },
  {
   "cell_type": "code",
   "execution_count": 15,
   "id": "4139f43e",
   "metadata": {},
   "outputs": [
    {
     "ename": "NameError",
     "evalue": "name 'np' is not defined",
     "output_type": "error",
     "traceback": [
      "\u001b[1;31m---------------------------------------------------------------------------\u001b[0m",
      "\u001b[1;31mNameError\u001b[0m                                 Traceback (most recent call last)",
      "Cell \u001b[1;32mIn[15], line 1\u001b[0m\n\u001b[1;32m----> 1\u001b[0m \u001b[43mvisualize_process\u001b[49m\u001b[43m(\u001b[49m\u001b[43mfinal_history\u001b[49m\u001b[43m)\u001b[49m\n",
      "File \u001b[1;32md:\\Adversarial-Robustness-of-RAG-with-visual-information\\algorithm\\util.py:46\u001b[0m, in \u001b[0;36mvisualize_process\u001b[1;34m(final_history, objective_labels, interval)\u001b[0m\n\u001b[0;32m     43\u001b[0m num_generations \u001b[38;5;241m=\u001b[39m \u001b[38;5;28mlen\u001b[39m(final_history)\n\u001b[0;32m     45\u001b[0m \u001b[38;5;66;03m# Convert to numpy arrays if not already\u001b[39;00m\n\u001b[1;32m---> 46\u001b[0m final_history \u001b[38;5;241m=\u001b[39m [\u001b[43mnp\u001b[49m\u001b[38;5;241m.\u001b[39marray(gen) \u001b[38;5;28;01mfor\u001b[39;00m gen \u001b[38;5;129;01min\u001b[39;00m final_history]\n\u001b[0;32m     48\u001b[0m \u001b[38;5;66;03m# Determine bounds across all generations\u001b[39;00m\n\u001b[0;32m     49\u001b[0m min_obj1 \u001b[38;5;241m=\u001b[39m \u001b[38;5;28mmin\u001b[39m(np\u001b[38;5;241m.\u001b[39mmin(gen[:, \u001b[38;5;241m0\u001b[39m]) \u001b[38;5;28;01mfor\u001b[39;00m gen \u001b[38;5;129;01min\u001b[39;00m final_history)\n",
      "\u001b[1;31mNameError\u001b[0m: name 'np' is not defined"
     ]
    }
   ],
   "source": [
    "visualize_process(final_history)"
   ]
  },
  {
   "cell_type": "code",
   "execution_count": null,
   "id": "0bd9999c",
   "metadata": {},
   "outputs": [],
   "source": []
  },
  {
   "cell_type": "code",
   "execution_count": null,
   "id": "86b604f2",
   "metadata": {},
   "outputs": [],
   "source": []
  }
 ],
 "metadata": {
  "kernelspec": {
   "display_name": "Python 3",
   "language": "python",
   "name": "python3"
  },
  "language_info": {
   "codemirror_mode": {
    "name": "ipython",
    "version": 3
   },
   "file_extension": ".py",
   "mimetype": "text/x-python",
   "name": "python",
   "nbconvert_exporter": "python",
   "pygments_lexer": "ipython3",
   "version": "3.12.9"
  }
 },
 "nbformat": 4,
 "nbformat_minor": 5
}

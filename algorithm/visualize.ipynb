{
 "cells": [
  {
   "cell_type": "code",
   "execution_count": 1,
   "id": "b18feada",
   "metadata": {},
   "outputs": [
    {
     "name": "stderr",
     "output_type": "stream",
     "text": [
      "C:\\Users\\ADMIN\\AppData\\Roaming\\Python\\Python312\\site-packages\\tqdm\\auto.py:21: TqdmWarning: IProgress not found. Please update jupyter and ipywidgets. See https://ipywidgets.readthedocs.io/en/stable/user_install.html\n",
      "  from .autonotebook import tqdm as notebook_tqdm\n"
     ]
    }
   ],
   "source": [
    "from util import *\n",
    "import os\n",
    "import matplotlib.pyplot as plt\n",
    "from IPython.display import HTML\n",
    "import matplotlib.animation as animation\n",
    "import numpy as np\n",
    "import pickle"
   ]
  },
  {
   "cell_type": "code",
   "execution_count": 6,
   "id": "6708291c",
   "metadata": {},
   "outputs": [],
   "source": [
    "dir = r\"D:\\Adversarial-Robustness-of-RAG-with-visual-information\\algorithm\\algorithm\"\n",
    "for i in os.listdir(dir):\n",
    "    sample_id = int(i)\n",
    "    path = r\"D:\\Adversarial-Robustness-of-RAG-with-visual-information\\algorithm\\algorithm\\{sample_id}\\scores.pkl\"\n",
    "\n",
    "    with open(path.format(sample_id=sample_id), \"rb\") as f:\n",
    "        history = pickle.load(f)\n",
    "\n",
    "    final_history = arkiv_proccess(history)\n",
    "    ani = visualize_process(final_history)\n",
    "    ani.save(f\"{sample_id}.gif\", writer=\"pillow\", fps=10)\n"
   ]
  },
  {
   "cell_type": "code",
   "execution_count": 6,
   "id": "761c2802",
   "metadata": {},
   "outputs": [],
   "source": [
    "proccess_mean = mean_proccess(\"llavanext\", \"run.txt\")"
   ]
  },
  {
   "cell_type": "code",
   "execution_count": 8,
   "id": "17874352",
   "metadata": {},
   "outputs": [
    {
     "data": {
      "text/plain": [
       "(1, 100, 2)"
      ]
     },
     "execution_count": 8,
     "metadata": {},
     "output_type": "execute_result"
    }
   ],
   "source": [
    "proccess_mean.shape"
   ]
  },
  {
   "cell_type": "code",
   "execution_count": null,
   "id": "30c02c8a",
   "metadata": {},
   "outputs": [],
   "source": []
  }
 ],
 "metadata": {
  "kernelspec": {
   "display_name": "Python 3",
   "language": "python",
   "name": "python3"
  },
  "language_info": {
   "codemirror_mode": {
    "name": "ipython",
    "version": 3
   },
   "file_extension": ".py",
   "mimetype": "text/x-python",
   "name": "python",
   "nbconvert_exporter": "python",
   "pygments_lexer": "ipython3",
   "version": "3.12.9"
  }
 },
 "nbformat": 4,
 "nbformat_minor": 5
}
